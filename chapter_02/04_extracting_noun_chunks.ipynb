{
 "cells": [
  {
   "cell_type": "code",
   "execution_count": 1,
   "id": "herbal-stylus",
   "metadata": {},
   "outputs": [],
   "source": [
    "import spacy"
   ]
  },
  {
   "cell_type": "code",
   "execution_count": 4,
   "id": "floral-hartford",
   "metadata": {},
   "outputs": [],
   "source": [
    "filename = './data/sherlock_holmes_1.txt'\n",
    "file = open(filename, 'r', encoding='utf-8')\n",
    "text = file.read()\n",
    "text = text.replace('\\n', ' ')"
   ]
  },
  {
   "cell_type": "code",
   "execution_count": 9,
   "id": "solved-boutique",
   "metadata": {},
   "outputs": [
    {
     "name": "stdout",
     "output_type": "stream",
     "text": [
      "Sherlock Holmes \t 1 3 Holmes\n",
      "she \t 3 4 she\n",
      "_ \t 6 7 _\n",
      "the_ woman \t 7 10 woman\n",
      "I \t 11 12 I\n",
      "him \t 15 16 him\n",
      "her \t 17 18 her\n",
      "any other name \t 19 22 name\n",
      "his eyes \t 24 26 eyes\n",
      "she \t 26 27 she\n",
      "the whole \t 30 32 whole\n",
      "her sex \t 33 35 sex\n",
      "It \t 36 37 It\n",
      "he \t 40 41 he\n",
      "any emotion \t 42 44 emotion\n",
      "love \t 46 47 love\n",
      "Irene Adler \t 48 50 Adler\n",
      "All emotions \t 51 53 emotions\n",
      "one \t 56 57 one\n",
      "his cold, precise but admirably balanced mind \t 62 70 mind\n",
      "He \t 71 72 He\n",
      "I \t 74 75 I\n",
      "it \t 76 77 it\n",
      "machine \t 84 85 machine\n",
      "the world \t 86 88 world\n",
      "a lover \t 93 95 lover\n",
      "he \t 95 96 he\n",
      "himself \t 99 100 himself\n",
      "a false position \t 101 104 position\n",
      "He \t 105 106 He\n",
      "the softer passions \t 109 112 passions\n",
      "a gibe \t 115 117 gibe\n",
      "a sneer \t 118 120 sneer\n",
      "They \t 121 122 They\n",
      "admirable things \t 123 125 things\n",
      "the observer \t 126 128 observer\n",
      "the veil \t 132 134 veil\n",
      "men’s motives \t 135 138 motives\n",
      "actions \t 139 140 actions\n",
      "the trained reasoner \t 143 146 reasoner\n",
      "such intrusions \t 148 150 intrusions\n",
      "his own delicate and finely adjusted temperament \t 151 158 temperament\n",
      "a distracting factor \t 161 164 factor\n",
      "a doubt \t 167 169 doubt\n",
      "all his mental results \t 170 174 results\n",
      "Grit \t 175 176 Grit\n",
      "a sensitive instrument \t 177 180 instrument\n",
      "a crack \t 182 184 crack\n",
      "his own high-power lenses \t 187 193 lenses\n",
      "a strong emotion \t 200 203 emotion\n",
      "a nature \t 204 206 nature\n",
      "his \t 208 209 his\n",
      "one woman \t 215 217 woman\n",
      "him \t 218 219 him\n",
      "that woman \t 221 223 woman\n",
      "the late Irene Adler \t 224 228 Adler\n",
      "dubious and questionable memory \t 230 234 memory\n"
     ]
    }
   ],
   "source": [
    "nlp = spacy.load('en_core_web_md')\n",
    "doc = nlp(text)\n",
    "\n",
    "for noun_chunk in doc.noun_chunks:\n",
    "    print(noun_chunk.text, '\\t', noun_chunk.start, noun_chunk.end, noun_chunk.root.text)"
   ]
  },
  {
   "cell_type": "code",
   "execution_count": 10,
   "id": "timely-appendix",
   "metadata": {},
   "outputs": [
    {
     "name": "stdout",
     "output_type": "stream",
     "text": [
      "Sherlock Holmes 0.07617159587536797\n",
      "she 0.3850564572747991\n",
      "_ 0.08114522263990508\n",
      "the_ woman 0.3413421862295904\n",
      "I 0.28956080798043515\n",
      "him 0.3566100613115306\n",
      "her 0.41825487154342855\n",
      "any other name 0.316660859608244\n",
      "his eyes 0.46187537823933383\n",
      "she 0.3850564572747991\n",
      "the whole 0.3583279358370176\n",
      "her sex 0.4067044722799365\n",
      "It 0.3728668337121316\n",
      "he 0.3199068450531905\n",
      "any emotion 0.7800864095615956\n",
      "love 0.45389927185062373\n",
      "Irene Adler 0.08455587894383462\n",
      "All emotions 0.8876554549427152\n",
      "one 0.31922690048570046\n",
      "his cold, precise but admirably balanced mind 0.5102475977383759\n",
      "He 0.3199068450531905\n",
      "I 0.28956080798043515\n",
      "it 0.3728668337121316\n",
      "machine 0.1279040919054237\n",
      "the world 0.3824870626121076\n",
      "a lover 0.31545147379873656\n",
      "he 0.3199068450531905\n",
      "himself 0.32315040415058266\n",
      "a false position 0.29790283855881444\n",
      "He 0.3199068450531905\n",
      "the softer passions 0.566857167004898\n",
      "a gibe 0.2823781277551274\n",
      "a sneer 0.2754705336342349\n",
      "They 0.38751921418639207\n",
      "admirable things 0.49517523378045314\n",
      "the observer 0.34095977876591665\n",
      "the veil 0.3533237944338476\n",
      "men’s motives 0.49814183955175023\n",
      "actions 0.46615949271666574\n",
      "the trained reasoner 0.30727020111794867\n",
      "such intrusions 0.35040178699333413\n",
      "his own delicate and finely adjusted temperament 0.5246384239729995\n",
      "a distracting factor 0.42296816290028155\n",
      "a doubt 0.36062883582781646\n",
      "all his mental results 0.540717457170704\n",
      "Grit 0.20479391149644585\n",
      "a sensitive instrument 0.3582608139429556\n",
      "a crack 0.18796720209755982\n",
      "his own high-power lenses 0.4048854050599273\n",
      "a strong emotion 0.6803201398953554\n",
      "a nature 0.4376492520251988\n",
      "his 0.35344306534368325\n",
      "one woman 0.369890582886796\n",
      "him 0.3566100613115306\n",
      "that woman 0.40557112383923516\n",
      "the late Irene Adler 0.23459830133188106\n",
      "dubious and questionable memory 0.4579835923234711\n"
     ]
    }
   ],
   "source": [
    "other_span = 'emotions'\n",
    "other_doc = nlp(other_span)\n",
    "\n",
    "for noun_chunk in doc.noun_chunks:\n",
    "    print(noun_chunk.text, noun_chunk.similarity(other_doc))"
   ]
  },
  {
   "cell_type": "code",
   "execution_count": null,
   "id": "democratic-newman",
   "metadata": {},
   "outputs": [],
   "source": []
  }
 ],
 "metadata": {
  "kernelspec": {
   "display_name": "Python 3",
   "language": "python",
   "name": "python3"
  },
  "language_info": {
   "codemirror_mode": {
    "name": "ipython",
    "version": 3
   },
   "file_extension": ".py",
   "mimetype": "text/x-python",
   "name": "python",
   "nbconvert_exporter": "python",
   "pygments_lexer": "ipython3",
   "version": "3.9.6"
  }
 },
 "nbformat": 4,
 "nbformat_minor": 5
}
