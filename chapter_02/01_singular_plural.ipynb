{
 "cells": [
  {
   "cell_type": "code",
   "execution_count": null,
   "id": "radical-living",
   "metadata": {},
   "outputs": [],
   "source": [
    "!pip install inflect\n",
    "!python -m spacy download en_core_web_md\n",
    "!pip install textacy\n",
    "!pip install neuralcoref\n",
    "\n",
    "# If neuralcoref fails to install due to spacy.strings.StringStore size changed, install from source\n",
    "pip uninstall neuralcoref\n",
    "git clone https://github.com/huggingface/neuralcoref.git\n",
    "cd neuralcoref\n",
    "pip install -r requirements.txt\n",
    "pip install -e"
   ]
  },
  {
   "cell_type": "markdown",
   "id": "stretch-mother",
   "metadata": {},
   "source": [
    "# Counting nounds - plural and singular nouns\n",
    "\n",
    "- determine whether a noun is singular or plural\n",
    "- turn pluran nouns into singular and vice versa"
   ]
  },
  {
   "cell_type": "code",
   "execution_count": 4,
   "id": "compressed-crown",
   "metadata": {},
   "outputs": [],
   "source": [
    "import nltk\n",
    "from nltk.stem import WordNetLemmatizer\n",
    "import inflect"
   ]
  },
  {
   "cell_type": "code",
   "execution_count": 6,
   "id": "undefined-survey",
   "metadata": {},
   "outputs": [
    {
     "data": {
      "text/plain": [
       "562188"
      ]
     },
     "execution_count": 6,
     "metadata": {},
     "output_type": "execute_result"
    }
   ],
   "source": [
    "filename = './data/sherlock_holmes.txt'\n",
    "file = open(filename, 'r', encoding='utf-8')\n",
    "text = file.read()\n",
    "text = text.replace('\\n', ' ')\n",
    "len(text)"
   ]
  },
  {
   "cell_type": "code",
   "execution_count": 7,
   "id": "happy-nation",
   "metadata": {},
   "outputs": [
    {
     "data": {
      "text/plain": [
       "[('The', 'DT'),\n",
       " ('Adventures', 'NNP'),\n",
       " ('of', 'IN'),\n",
       " ('Sherlock', 'NNP'),\n",
       " ('Holmes', 'NNP'),\n",
       " ('by', 'IN'),\n",
       " ('Arthur', 'NNP'),\n",
       " ('Conan', 'NNP'),\n",
       " ('Doyle', 'NNP'),\n",
       " ('Contents', 'NNP')]"
      ]
     },
     "execution_count": 7,
     "metadata": {},
     "output_type": "execute_result"
    }
   ],
   "source": [
    "words = nltk.tokenize.word_tokenize(text)\n",
    "words_with_pos = nltk.pos_tag(words)\n",
    "words_with_pos[:10]"
   ]
  },
  {
   "cell_type": "code",
   "execution_count": 8,
   "id": "integrated-monthly",
   "metadata": {},
   "outputs": [],
   "source": [
    "def get_nouns(words_with_pos):\n",
    "    noun_set = {'NN','NNS'}\n",
    "    nouns = [word for word in words_with_pos \n",
    "             if word[1] in noun_set]\n",
    "    return nouns"
   ]
  },
  {
   "cell_type": "code",
   "execution_count": 19,
   "id": "common-state",
   "metadata": {},
   "outputs": [
    {
     "name": "stdout",
     "output_type": "stream",
     "text": [
      "nouns: 19029\n",
      "first 5: [('Case', 'NN'), ('Man', 'NN'), ('Adventure', 'NN'), ('Adventure', 'NN'), ('Adventure', 'NN'), ('Adventure', 'NN'), ('Adventure', 'NN'), ('Adventure', 'NN'), ('woman', 'NN'), ('name', 'NN')]\n"
     ]
    }
   ],
   "source": [
    "nouns = get_nouns(words_with_pos)\n",
    "print('nouns:', len(nouns))\n",
    "print('first 10:', nouns[:10])"
   ]
  },
  {
   "cell_type": "code",
   "execution_count": 14,
   "id": "dress-disorder",
   "metadata": {},
   "outputs": [],
   "source": [
    "def is_plural_nltk(noun_info):\n",
    "    pos = noun_info[1]\n",
    "    # NN: Singular, NNS: Plural\n",
    "    return pos == 'NNS'\n",
    "\n",
    "\n",
    "def is_plural_wn(noun):\n",
    "    wnl = WordNetLemmatizer()\n",
    "    lemma = wnl.lemmatize(noun, 'n')\n",
    "    plural = True if noun is not lemma else False\n",
    "    return plural"
   ]
  },
  {
   "cell_type": "code",
   "execution_count": 15,
   "id": "amber-watershed",
   "metadata": {},
   "outputs": [],
   "source": [
    "def get_plural(singular_noun):\n",
    "    \"\"\"Change a singular noun into plural\"\"\"\n",
    "    p = inflect.engine()\n",
    "    return p.plural(singular_noun)\n",
    "\n",
    "def get_singular(plural_noun):\n",
    "    \"\"\"Change a plural noun into singular\"\"\"\n",
    "    p = inflect.engine()\n",
    "    plural = p.singular_noun(plural_noun)\n",
    "    return plural if plural else plural_noun"
   ]
  },
  {
   "cell_type": "code",
   "execution_count": 17,
   "id": "communist-accent",
   "metadata": {},
   "outputs": [],
   "source": [
    "def plurals_wn(words_with_pos):\n",
    "    other_nouns = []\n",
    "    for noun_info in words_with_pos:\n",
    "        word = noun_info[0]\n",
    "        plural = is_plural_wn(word)\n",
    "        if plural:\n",
    "            singular = get_singular(word)\n",
    "            other_nouns.append(singular)\n",
    "        else:\n",
    "            plural = get_plural(word)\n",
    "            other_nouns.append(plural)\n",
    "    return other_nouns"
   ]
  },
  {
   "cell_type": "code",
   "execution_count": 20,
   "id": "behavioral-sense",
   "metadata": {},
   "outputs": [
    {
     "data": {
      "text/plain": [
       "['Cases',\n",
       " 'Men',\n",
       " 'Adventures',\n",
       " 'Adventures',\n",
       " 'Adventures',\n",
       " 'Adventures',\n",
       " 'Adventures',\n",
       " 'Adventures',\n",
       " 'women',\n",
       " 'names']"
      ]
     },
     "execution_count": 20,
     "metadata": {},
     "output_type": "execute_result"
    }
   ],
   "source": [
    "other_nouns_wn = plurals_wn(nouns)\n",
    "other_nouns_wn[:10]"
   ]
  },
  {
   "cell_type": "code",
   "execution_count": 27,
   "id": "direct-potential",
   "metadata": {},
   "outputs": [
    {
     "name": "stdout",
     "output_type": "stream",
     "text": [
      "[('man', 'NN'), ('men', 'NNS')]\n"
     ]
    },
    {
     "data": {
      "text/plain": [
       "['mens', 'men', 'car', 'cars']"
      ]
     },
     "execution_count": 27,
     "metadata": {},
     "output_type": "execute_result"
    }
   ],
   "source": [
    "print(nltk.pos_tag(['man', 'men']))\n",
    "plurals_wn([\n",
    "    ('men', 'NNS'),\n",
    "    ('man', 'NN'),\n",
    "    ('cars', 'NNS'),\n",
    "    ('car', 'NN'),\n",
    "])"
   ]
  },
  {
   "cell_type": "code",
   "execution_count": 30,
   "id": "focal-sullivan",
   "metadata": {},
   "outputs": [
    {
     "data": {
      "text/plain": [
       "False"
      ]
     },
     "execution_count": 30,
     "metadata": {},
     "output_type": "execute_result"
    }
   ],
   "source": [
    "is_plural_wn('man')"
   ]
  },
  {
   "cell_type": "code",
   "execution_count": 34,
   "id": "documentary-residence",
   "metadata": {},
   "outputs": [
    {
     "data": {
      "text/plain": [
       "'men'"
      ]
     },
     "execution_count": 34,
     "metadata": {},
     "output_type": "execute_result"
    }
   ],
   "source": [
    "# https://stackoverflow.com/questions/22333392/stemming-some-plurals-with-wordnet-lemmatizer-doesnt-work\n",
    "# Why is the lemmatizer returning men instead of man?\n",
    "wnl = WordNetLemmatizer()\n",
    "lemma = wnl.lemmatize('men')\n",
    "lemma"
   ]
  },
  {
   "cell_type": "code",
   "execution_count": null,
   "id": "aging-database",
   "metadata": {},
   "outputs": [],
   "source": []
  }
 ],
 "metadata": {
  "kernelspec": {
   "display_name": "Python 3",
   "language": "python",
   "name": "python3"
  },
  "language_info": {
   "codemirror_mode": {
    "name": "ipython",
    "version": 3
   },
   "file_extension": ".py",
   "mimetype": "text/x-python",
   "name": "python",
   "nbconvert_exporter": "python",
   "pygments_lexer": "ipython3",
   "version": "3.9.6"
  }
 },
 "nbformat": 4,
 "nbformat_minor": 5
}
