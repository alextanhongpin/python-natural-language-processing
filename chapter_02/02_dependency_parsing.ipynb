{
 "cells": [
  {
   "cell_type": "code",
   "execution_count": 1,
   "id": "english-atmosphere",
   "metadata": {},
   "outputs": [],
   "source": [
    "import spacy"
   ]
  },
  {
   "cell_type": "code",
   "execution_count": 2,
   "id": "monthly-helicopter",
   "metadata": {},
   "outputs": [
    {
     "data": {
      "text/plain": [
       "I have seldom heard him mention her under any other name."
      ]
     },
     "execution_count": 2,
     "metadata": {},
     "output_type": "execute_result"
    }
   ],
   "source": [
    "sentence = 'I have seldom heard him mention her under any other name.'\n",
    "nlp = spacy.load('en_core_web_sm')\n",
    "doc = nlp(sentence)\n",
    "doc"
   ]
  },
  {
   "cell_type": "code",
   "execution_count": 3,
   "id": "substantial-subcommittee",
   "metadata": {},
   "outputs": [
    {
     "name": "stdout",
     "output_type": "stream",
     "text": [
      "I \t nsubj \t nominal subject\n",
      "have \t aux \t auxiliary\n",
      "seldom \t advmod \t adverbial modifier\n",
      "heard \t ROOT \t None\n",
      "him \t nsubj \t nominal subject\n",
      "mention \t ccomp \t clausal complement\n",
      "her \t dobj \t direct object\n",
      "under \t prep \t prepositional modifier\n",
      "any \t det \t determiner\n",
      "other \t amod \t adjectival modifier\n",
      "name \t pobj \t object of preposition\n",
      ". \t punct \t punctuation\n"
     ]
    }
   ],
   "source": [
    "for token in doc:\n",
    "    print(token.text, '\\t', token.dep_, '\\t', spacy.explain(token.dep_))"
   ]
  },
  {
   "cell_type": "code",
   "execution_count": 4,
   "id": "bored-horizon",
   "metadata": {},
   "outputs": [
    {
     "name": "stdout",
     "output_type": "stream",
     "text": [
      "I ['heard']\n",
      "have ['heard']\n",
      "seldom ['heard']\n",
      "heard []\n",
      "him ['mention', 'heard']\n",
      "mention ['heard']\n",
      "her ['mention', 'heard']\n",
      "under ['mention', 'heard']\n",
      "any ['name', 'under', 'mention', 'heard']\n",
      "other ['name', 'under', 'mention', 'heard']\n",
      "name ['under', 'mention', 'heard']\n",
      ". ['heard']\n"
     ]
    }
   ],
   "source": [
    "# Get the token this token depends on.\n",
    "for token in doc:\n",
    "    ancestors = [t.text for t in token.ancestors]\n",
    "    print(token.text, ancestors)"
   ]
  },
  {
   "cell_type": "code",
   "execution_count": 5,
   "id": "willing-denver",
   "metadata": {},
   "outputs": [
    {
     "name": "stdout",
     "output_type": "stream",
     "text": [
      "I []\n",
      "have []\n",
      "seldom []\n",
      "heard ['I', 'have', 'seldom', 'mention', '.']\n",
      "him []\n",
      "mention ['him', 'her', 'under']\n",
      "her []\n",
      "under ['name']\n",
      "any []\n",
      "other []\n",
      "name ['any', 'other']\n",
      ". []\n"
     ]
    }
   ],
   "source": [
    "# Get the token that depends on it.\n",
    "for token in doc:\n",
    "    children = [t.text for t in token.children]\n",
    "    print(token.text, children)"
   ]
  },
  {
   "cell_type": "code",
   "execution_count": 6,
   "id": "efficient-cargo",
   "metadata": {},
   "outputs": [
    {
     "name": "stdout",
     "output_type": "stream",
     "text": [
      "I ['I']\n",
      "have ['have']\n",
      "seldom ['seldom']\n",
      "heard ['I', 'have', 'seldom', 'heard', 'him', 'mention', 'her', 'under', 'any', 'other', 'name', '.']\n",
      "him ['him']\n",
      "mention ['him', 'mention', 'her', 'under', 'any', 'other', 'name']\n",
      "her ['her']\n",
      "under ['under', 'any', 'other', 'name']\n",
      "any ['any']\n",
      "other ['other']\n",
      "name ['any', 'other', 'name']\n",
      ". ['.']\n"
     ]
    }
   ],
   "source": [
    "# Print the subtree.\n",
    "for token in doc:\n",
    "    subtrees = [t.text for t in token.subtree]\n",
    "    print(token.text, subtrees)"
   ]
  },
  {
   "cell_type": "code",
   "execution_count": null,
   "id": "obvious-membership",
   "metadata": {},
   "outputs": [],
   "source": []
  }
 ],
 "metadata": {
  "kernelspec": {
   "display_name": "Python 3",
   "language": "python",
   "name": "python3"
  },
  "language_info": {
   "codemirror_mode": {
    "name": "ipython",
    "version": 3
   },
   "file_extension": ".py",
   "mimetype": "text/x-python",
   "name": "python",
   "nbconvert_exporter": "python",
   "pygments_lexer": "ipython3",
   "version": "3.9.6"
  }
 },
 "nbformat": 4,
 "nbformat_minor": 5
}
