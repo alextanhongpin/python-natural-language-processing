{
 "cells": [
  {
   "cell_type": "code",
   "execution_count": 1,
   "id": "invalid-contract",
   "metadata": {},
   "outputs": [],
   "source": [
    "import spacy"
   ]
  },
  {
   "cell_type": "code",
   "execution_count": 70,
   "id": "floppy-genealogy",
   "metadata": {},
   "outputs": [
    {
     "name": "stdout",
     "output_type": "stream",
     "text": [
      "He \t 0 \t PRON \t nsubj \t ['eats'] \t []\n",
      "eats \t 1 \t VERB \t ROOT \t [] \t ['He', 'cheese', ',', 'but', 'eat']\n",
      "cheese \t 2 \t NOUN \t dobj \t ['eats'] \t []\n",
      ", \t 3 \t PUNCT \t punct \t ['eats'] \t []\n",
      "but \t 4 \t CCONJ \t cc \t ['eats'] \t []\n",
      "he \t 5 \t PRON \t nsubj \t ['eat', 'eats'] \t []\n",
      "wo \t 6 \t AUX \t aux \t ['eat', 'eats'] \t []\n",
      "n't \t 7 \t PART \t neg \t ['eat', 'eats'] \t []\n",
      "eat \t 8 \t VERB \t conj \t ['eats'] \t ['he', 'wo', \"n't\", 'cream', '.']\n",
      "ice \t 9 \t NOUN \t compound \t ['cream', 'eat', 'eats'] \t []\n",
      "cream \t 10 \t NOUN \t dobj \t ['eat', 'eats'] \t ['ice']\n",
      ". \t 11 \t PUNCT \t punct \t ['eat', 'eats'] \t []\n"
     ]
    }
   ],
   "source": [
    "nlp = spacy.load('en_core_web_sm')\n",
    "sentence = \"He eats cheese, but he won't eat ice cream.\"\n",
    "doc = nlp(sentence)\n",
    "\n",
    "for token in doc:\n",
    "    ancestors = [t.text for t in token.ancestors]\n",
    "    children = [t.text for t in token.children]\n",
    "    print(token.text, '\\t', token.i, '\\t', \n",
    "          token.pos_, '\\t', token.dep_, '\\t',\n",
    "          ancestors, '\\t', children)"
   ]
  },
  {
   "cell_type": "code",
   "execution_count": 71,
   "id": "southern-leather",
   "metadata": {},
   "outputs": [],
   "source": [
    "def find_root_of_sentence(doc):\n",
    "    '''The root token of the sentence is normally the main verb.'''\n",
    "    root_token = None\n",
    "    for token in doc:\n",
    "        if token.dep_ == 'ROOT':\n",
    "            root_token = token\n",
    "    return root_token"
   ]
  },
  {
   "cell_type": "code",
   "execution_count": 72,
   "id": "higher-attack",
   "metadata": {},
   "outputs": [
    {
     "data": {
      "text/plain": [
       "eats"
      ]
     },
     "execution_count": 72,
     "metadata": {},
     "output_type": "execute_result"
    }
   ],
   "source": [
    "root_token = find_root_of_sentence(doc)\n",
    "root_token"
   ]
  },
  {
   "cell_type": "code",
   "execution_count": 73,
   "id": "swedish-michigan",
   "metadata": {},
   "outputs": [],
   "source": [
    "def find_other_verbs(doc, root_token):\n",
    "    other_verbs = []\n",
    "    for token in doc:\n",
    "        ancestors = list(token.ancestors)\n",
    "        if token.pos_ == 'VERB' and len(ancestors) == 1 and ancestors[0] == root_token:\n",
    "            other_verbs.append(token)\n",
    "    return other_verbs"
   ]
  },
  {
   "cell_type": "code",
   "execution_count": 74,
   "id": "buried-poker",
   "metadata": {},
   "outputs": [
    {
     "data": {
      "text/plain": [
       "[eat]"
      ]
     },
     "execution_count": 74,
     "metadata": {},
     "output_type": "execute_result"
    }
   ],
   "source": [
    "other_verbs = find_other_verbs(doc, root_token)\n",
    "other_verbs"
   ]
  },
  {
   "cell_type": "code",
   "execution_count": 75,
   "id": "ancient-grain",
   "metadata": {},
   "outputs": [],
   "source": [
    "def get_clause_token_span_for_verb(verb, doc, all_verbs):\n",
    "    first_token_index = len(doc)\n",
    "    last_token_index = 0\n",
    "    this_verb_children = list(verb.children)\n",
    "    for child in this_verb_children:\n",
    "        if child not in all_verbs:\n",
    "            if child.i < first_token_index:\n",
    "                first_token_index = child.i\n",
    "            if child.i > last_token_index:\n",
    "                last_token_index = child.i\n",
    "    return (first_token_index, last_token_index)"
   ]
  },
  {
   "cell_type": "code",
   "execution_count": 76,
   "id": "raising-roberts",
   "metadata": {},
   "outputs": [],
   "source": [
    "token_spans = []\n",
    "all_verbs = [root_token] + other_verbs\n",
    "for other_verb in all_verbs:\n",
    "    first_token_index, last_token_index = get_clause_token_span_for_verb(other_verb, doc, all_verbs)\n",
    "    token_spans.append((first_token_index, last_token_index))"
   ]
  },
  {
   "cell_type": "code",
   "execution_count": 77,
   "id": "integrated-injury",
   "metadata": {},
   "outputs": [
    {
     "data": {
      "text/plain": [
       "['He eats cheese,', \"he won't eat ice cream\"]"
      ]
     },
     "execution_count": 77,
     "metadata": {},
     "output_type": "execute_result"
    }
   ],
   "source": [
    "sentence_clauses = []\n",
    "for (start, end) in token_spans:\n",
    "    if start < end:\n",
    "        clause = doc[start:end]\n",
    "        sentence_clauses.append(clause)\n",
    "sentence_clauses = sorted(sentence_clauses, key=lambda tup: tup[0])\n",
    "clauses_text = [clause.text for clause in sentence_clauses]\n",
    "clauses_text"
   ]
  }
 ],
 "metadata": {
  "kernelspec": {
   "display_name": "Python 3",
   "language": "python",
   "name": "python3"
  },
  "language_info": {
   "codemirror_mode": {
    "name": "ipython",
    "version": 3
   },
   "file_extension": ".py",
   "mimetype": "text/x-python",
   "name": "python",
   "nbconvert_exporter": "python",
   "pygments_lexer": "ipython3",
   "version": "3.9.6"
  }
 },
 "nbformat": 4,
 "nbformat_minor": 5
}
