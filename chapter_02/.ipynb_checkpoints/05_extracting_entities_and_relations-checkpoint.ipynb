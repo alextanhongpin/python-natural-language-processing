{
 "cells": [
  {
   "cell_type": "code",
   "execution_count": 34,
   "id": "premier-gasoline",
   "metadata": {},
   "outputs": [],
   "source": [
    "import spacy\n",
    "import textacy"
   ]
  },
  {
   "cell_type": "code",
   "execution_count": 98,
   "id": "altered-configuration",
   "metadata": {},
   "outputs": [],
   "source": [
    "nlp = spacy.load('en_core_web_sm')\n",
    "sentences = ['All living things are made of cells.', 'Cells have organelles.']\n",
    "verb_patterns = [[{'POS': 'AUX'},\n",
    "                 {'POS': 'VERB'},\n",
    "                 {'POS': 'ADP'}],\n",
    "                 [{'POS': 'VERB'}]]\n",
    "\n",
    "def find_root_of_sentence(doc):\n",
    "    '''The root token of the sentence is normally the main verb.'''\n",
    "    root_token = None\n",
    "    for token in doc:\n",
    "        if token.dep_ == 'ROOT':\n",
    "            root_token = token\n",
    "    return root_token\n",
    "\n",
    "def contains_root(verb_phrase, root):\n",
    "    return root.i >= verb_phrase.start and root.i <= verb_phrase.end\n",
    "\n",
    "def get_verb_phrases(doc):\n",
    "    root = find_root_of_sentence(doc)\n",
    "    verb_phrases = textacy.extract.matches.token_matches(doc, verb_patterns)\n",
    "    \n",
    "    new_vps = []\n",
    "    for verb_phrase in verb_phrases:\n",
    "        if contains_root(verb_phrase, root):\n",
    "            new_vps.append(verb_phrase)\n",
    "    return new_vps\n",
    "\n",
    "def longer_verb_phrase(verb_phrases):\n",
    "    longest_length = 0\n",
    "    longest_verb_phrase = None\n",
    "    for verb_phrase in verb_phrases:\n",
    "        if len(verb_phrase) > longest_length:\n",
    "            longest_verb_phrase = verb_phrase\n",
    "    return longest_verb_phrase\n",
    "\n",
    "def find_noun_phrase(verb_phrase, noun_phrases, side):\n",
    "    for noun_phrase in noun_phrases:\n",
    "        if side == 'left' and noun_phrase.start < verb_phrase.start:\n",
    "            return noun_phrase\n",
    "        elif side == 'right' and noun_phrase.start > verb_phrase.start:\n",
    "            return noun_phrase\n",
    "\n",
    "def find_triplet(sentence):\n",
    "    doc = nlp(sentence)\n",
    "    verb_phrases = get_verb_phrases(doc)\n",
    "    noun_phrases = doc.noun_chunks\n",
    "    verb_phrase = None\n",
    "    if len(verb_phrases) > 1:\n",
    "        verb_phrase = longer_verb_phrase(list(verb_phrases))\n",
    "    else:\n",
    "        verb_phrase = verb_phrases[0]\n",
    "    left_noun_phrase = find_noun_phrase(verb_phrase, noun_phrases, 'left')\n",
    "    right_noun_phrase = find_noun_phrase(verb_phrase, noun_phrases, 'right')\n",
    "    return (left_noun_phrase, verb_phrase, right_noun_phrase)"
   ]
  },
  {
   "cell_type": "code",
   "execution_count": 99,
   "id": "diagnostic-mason",
   "metadata": {},
   "outputs": [
    {
     "name": "stdout",
     "output_type": "stream",
     "text": [
      "All living things \t are made of \t cells\n",
      "Cells \t have \t organelles\n"
     ]
    }
   ],
   "source": [
    "for i, sentence in enumerate(sentences):\n",
    "    left_np, vp, right_np = find_triplet(sentence)\n",
    "    print(left_np, '\\t', vp, '\\t', right_np)"
   ]
  }
 ],
 "metadata": {
  "kernelspec": {
   "display_name": "Python 3",
   "language": "python",
   "name": "python3"
  },
  "language_info": {
   "codemirror_mode": {
    "name": "ipython",
    "version": 3
   },
   "file_extension": ".py",
   "mimetype": "text/x-python",
   "name": "python",
   "nbconvert_exporter": "python",
   "pygments_lexer": "ipython3",
   "version": "3.9.6"
  }
 },
 "nbformat": 4,
 "nbformat_minor": 5
}
