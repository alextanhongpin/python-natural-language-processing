{
 "cells": [
  {
   "cell_type": "markdown",
   "id": "pointed-skating",
   "metadata": {},
   "source": [
    "# Lemmatization \n",
    "\n",
    "Lemmatization returns the canonical form of the sentence."
   ]
  },
  {
   "cell_type": "code",
   "execution_count": 10,
   "id": "compatible-cologne",
   "metadata": {},
   "outputs": [],
   "source": [
    "import nltk\n",
    "from nltk.stem import WordNetLemmatizer"
   ]
  },
  {
   "cell_type": "code",
   "execution_count": 2,
   "id": "impressed-showcase",
   "metadata": {},
   "outputs": [
    {
     "data": {
      "text/plain": [
       "['duck', 'goose', 'cat', 'book']"
      ]
     },
     "execution_count": 2,
     "metadata": {},
     "output_type": "execute_result"
    }
   ],
   "source": [
    "lemmatizer = WordNetLemmatizer()\n",
    "words = 'duck geese cats books'.split(' ')\n",
    "lemmatized_words = [lemmatizer.lemmatize(word) for word in words]\n",
    "lemmatized_words"
   ]
  },
  {
   "cell_type": "code",
   "execution_count": 20,
   "id": "stable-addition",
   "metadata": {},
   "outputs": [
    {
     "name": "stdout",
     "output_type": "stream",
     "text": [
      "love\n",
      "loved\n",
      "bad\n"
     ]
    }
   ],
   "source": [
    "# lemmatize function has a parameter for part of speech, which is set to noun as default. If you would like to lemmatize a verb or an adjective, yo uahve to explicitly set it.\n",
    "print(lemmatizer.lemmatize('loved', 'v'))\n",
    "print(lemmatizer.lemmatize('loved'))\n",
    "print(lemmatizer.lemmatize('worse', 'a'))"
   ]
  },
  {
   "cell_type": "markdown",
   "id": "pointed-aruba",
   "metadata": {},
   "source": [
    "## Combining part of speech with lemmatization"
   ]
  },
  {
   "cell_type": "code",
   "execution_count": 5,
   "id": "outstanding-truth",
   "metadata": {},
   "outputs": [],
   "source": [
    "pos_mapping = {\n",
    "    'JJ': 'a',\n",
    "    'JJR': 'a',\n",
    "    'JJS': 'a',\n",
    "    'NN': 'n',\n",
    "    'NNS': 'n',\n",
    "    'VBD': 'v',\n",
    "    'VBG': 'v',\n",
    "    'VBN': 'v',\n",
    "    'VBP': 'v',\n",
    "    'VBZ': 'v'\n",
    "}\n",
    "accepted_pos = {'a', 'v', 'n'}"
   ]
  },
  {
   "cell_type": "code",
   "execution_count": 30,
   "id": "placed-adobe",
   "metadata": {},
   "outputs": [],
   "source": [
    "def map_pos(word):\n",
    "    return pos_mapping[word] if word in pos_mapping else word\n",
    "\n",
    "def lemmatize_long_text(text):\n",
    "    words = nltk.tokenize.word_tokenize(text)\n",
    "    words = nltk.pos_tag(words)\n",
    "    words = [(word_tuple[0], map_pos(word_tuple[1])) for word_tuple in words]\n",
    "    words = [(lemmatizer.lemmatize(word_tuple[0], word_tuple[1] if word_tuple[1] in accepted_pos else 'n'),\n",
    "              word_tuple[1]) for word_tuple in words]\n",
    "    return words"
   ]
  },
  {
   "cell_type": "code",
   "execution_count": 31,
   "id": "negative-invitation",
   "metadata": {},
   "outputs": [
    {
     "name": "stdout",
     "output_type": "stream",
     "text": [
      "[('To', 'TO'), ('Sherlock', 'NNP'), ('Holmes', 'NNP'), ('she', 'PRP'), ('be', 'v'), ('always', 'RB'), ('_the_', 'a'), ('woman', 'n'), ('.', '.'), ('I', 'PRP'), ('have', 'v'), ('seldom', 'v'), ('heard', 'RB'), ('him', 'PRP'), ('mention', 'VB'), ('her', 'PRP'), ('under', 'IN'), ('any', 'DT'), ('other', 'a'), ('name', 'n'), ('.', '.'), ('In', 'IN'), ('his', 'PRP$'), ('eye', 'n'), ('she', 'PRP'), ('eclipse', 'v'), ('and', 'CC'), ('predominate', 'v'), ('the', 'DT'), ('whole', 'n'), ('of', 'IN'), ('her', 'PRP$'), ('sex', 'n'), ('.', '.'), ('It', 'PRP'), ('be', 'v'), ('not', 'RB'), ('that', 'IN'), ('he', 'PRP'), ('felt', 'v'), ('any', 'DT'), ('emotion', 'n'), ('akin', 'n'), ('to', 'TO'), ('love', 'VB'), ('for', 'IN'), ('Irene', 'NNP'), ('Adler', 'NNP'), ('.', '.'), ('All', 'DT'), ('emotion', 'n'), (',', ','), ('and', 'CC'), ('that', 'IN'), ('one', 'CD'), ('particularly', 'RB'), (',', ','), ('be', 'v'), ('abhorrent', 'a'), ('to', 'TO'), ('his', 'PRP$'), ('cold', 'n'), (',', ','), ('precise', 'n'), ('but', 'CC'), ('admirably', 'RB'), ('balance', 'v'), ('mind', 'n'), ('.', '.'), ('He', 'PRP'), ('be', 'v'), (',', ','), ('I', 'PRP'), ('take', 'v'), ('it', 'PRP'), (',', ','), ('the', 'DT'), ('most', 'RBS'), ('perfect', 'a'), ('reasoning', 'n'), ('and', 'CC'), ('observe', 'v'), ('machine', 'n'), ('that', 'IN'), ('the', 'DT'), ('world', 'n'), ('have', 'v'), ('see', 'v'), (',', ','), ('but', 'CC'), ('a', 'IN'), ('a', 'DT'), ('lover', 'n'), ('he', 'PRP'), ('would', 'MD'), ('have', 'VB'), ('place', 'v'), ('himself', 'PRP'), ('in', 'IN'), ('a', 'DT'), ('false', 'a'), ('position', 'n'), ('.', '.'), ('He', 'PRP'), ('never', 'RB'), ('speak', 'v'), ('of', 'IN'), ('the', 'DT'), ('soft', 'a'), ('passion', 'n'), (',', ','), ('save', 'v'), ('with', 'IN'), ('a', 'DT'), ('gibe', 'n'), ('and', 'CC'), ('a', 'DT'), ('sneer', 'n'), ('.', '.'), ('They', 'PRP'), ('be', 'v'), ('admirable', 'a'), ('thing', 'n'), ('for', 'IN'), ('the', 'DT'), ('observer—excellent', 'n'), ('for', 'IN'), ('draw', 'v'), ('the', 'DT'), ('veil', 'n'), ('from', 'IN'), ('men', 'n'), ('’', 'v'), ('s', 'a'), ('motif', 'n'), ('and', 'CC'), ('action', 'n'), ('.', '.'), ('But', 'CC'), ('for', 'IN'), ('the', 'DT'), ('trained', 'a'), ('reasoner', 'n'), ('to', 'TO'), ('admit', 'VB'), ('such', 'a'), ('intrusion', 'n'), ('into', 'IN'), ('his', 'PRP$'), ('own', 'a'), ('delicate', 'n'), ('and', 'CC'), ('finely', 'RB'), ('adjust', 'v'), ('temperament', 'n'), ('be', 'v'), ('to', 'TO'), ('introduce', 'VB'), ('a', 'DT'), ('distracting', 'n'), ('factor', 'n'), ('which', 'WDT'), ('might', 'MD'), ('throw', 'VB'), ('a', 'DT'), ('doubt', 'n'), ('upon', 'IN'), ('all', 'PDT'), ('his', 'PRP$'), ('mental', 'a'), ('result', 'n'), ('.', '.'), ('Grit', 'NNP'), ('in', 'IN'), ('a', 'DT'), ('sensitive', 'a'), ('instrument', 'n'), (',', ','), ('or', 'CC'), ('a', 'DT'), ('crack', 'n'), ('in', 'IN'), ('one', 'CD'), ('of', 'IN'), ('his', 'PRP$'), ('own', 'a'), ('high-power', 'n'), ('lens', 'n'), (',', ','), ('would', 'MD'), ('not', 'RB'), ('be', 'VB'), ('more', 'RBR'), ('disturbing', 'a'), ('than', 'IN'), ('a', 'DT'), ('strong', 'a'), ('emotion', 'n'), ('in', 'IN'), ('a', 'DT'), ('nature', 'n'), ('such', 'a'), ('a', 'IN'), ('his', 'PRP$'), ('.', '.'), ('And', 'CC'), ('yet', 'RB'), ('there', 'EX'), ('be', 'v'), ('but', 'CC'), ('one', 'CD'), ('woman', 'n'), ('to', 'TO'), ('him', 'PRP'), (',', ','), ('and', 'CC'), ('that', 'IN'), ('woman', 'n'), ('be', 'v'), ('the', 'DT'), ('late', 'a'), ('Irene', 'NNP'), ('Adler', 'NNP'), (',', ','), ('of', 'IN'), ('dubious', 'a'), ('and', 'CC'), ('questionable', 'a'), ('memory', 'n'), ('.', '.')]\n"
     ]
    }
   ],
   "source": [
    "filename = './data/sherlock_holmes_1.txt'\n",
    "file = open(filename, 'r', encoding='utf-8')\n",
    "text = file.read()\n",
    "print(lemmatize_long_text(text))"
   ]
  },
  {
   "cell_type": "code",
   "execution_count": 32,
   "id": "invisible-storage",
   "metadata": {},
   "outputs": [
    {
     "data": {
      "text/plain": [
       "[('She', 'PRP'), ('will', 'MD'), ('be', 'VB'), ('love', 'v')]"
      ]
     },
     "execution_count": 32,
     "metadata": {},
     "output_type": "execute_result"
    }
   ],
   "source": [
    "lemmatize_long_text('She will be loved')"
   ]
  },
  {
   "cell_type": "code",
   "execution_count": null,
   "id": "exterior-turkish",
   "metadata": {},
   "outputs": [],
   "source": []
  }
 ],
 "metadata": {
  "kernelspec": {
   "display_name": "Python 3",
   "language": "python",
   "name": "python3"
  },
  "language_info": {
   "codemirror_mode": {
    "name": "ipython",
    "version": 3
   },
   "file_extension": ".py",
   "mimetype": "text/x-python",
   "name": "python",
   "nbconvert_exporter": "python",
   "pygments_lexer": "ipython3",
   "version": "3.9.6"
  }
 },
 "nbformat": 4,
 "nbformat_minor": 5
}
