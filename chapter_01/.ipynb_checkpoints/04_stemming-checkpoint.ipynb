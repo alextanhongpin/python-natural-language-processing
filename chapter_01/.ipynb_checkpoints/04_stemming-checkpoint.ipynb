{
 "cells": [
  {
   "cell_type": "markdown",
   "id": "entitled-velvet",
   "metadata": {},
   "source": [
    "# Stemming\n",
    "\n",
    "Stemming is the removal of suffixes and endings such as -ing and -ed."
   ]
  },
  {
   "cell_type": "code",
   "execution_count": 1,
   "id": "portable-mixer",
   "metadata": {},
   "outputs": [],
   "source": [
    "from nltk.stem.snowball import SnowballStemmer"
   ]
  },
  {
   "cell_type": "code",
   "execution_count": 2,
   "id": "moving-newcastle",
   "metadata": {},
   "outputs": [
    {
     "data": {
      "text/plain": [
       "['leaf', 'leav', 'book', 'write', 'complet', 'stem', 'sky']"
      ]
     },
     "execution_count": 2,
     "metadata": {},
     "output_type": "execute_result"
    }
   ],
   "source": [
    "stemmer = SnowballStemmer('english')\n",
    "words = 'leaf leaves booking writing completed stemming skies'.split(' ')\n",
    "stemmed_words = [stemmer.stem(word) for word in words]\n",
    "stemmed_words"
   ]
  },
  {
   "cell_type": "code",
   "execution_count": 4,
   "id": "every-speech",
   "metadata": {},
   "outputs": [
    {
     "name": "stdout",
     "output_type": "stream",
     "text": [
      "('arabic', 'danish', 'dutch', 'english', 'finnish', 'french', 'german', 'hungarian', 'italian', 'norwegian', 'porter', 'portuguese', 'romanian', 'russian', 'spanish', 'swedish')\n"
     ]
    }
   ],
   "source": [
    "# To see all available languages for the stemmer.\n",
    "print(SnowballStemmer.languages)"
   ]
  },
  {
   "cell_type": "code",
   "execution_count": 5,
   "id": "coordinate-culture",
   "metadata": {},
   "outputs": [
    {
     "data": {
      "text/plain": [
       "['camin', 'amig', 'buen']"
      ]
     },
     "execution_count": 5,
     "metadata": {},
     "output_type": "execute_result"
    }
   ],
   "source": [
    "stemmer = SnowballStemmer('spanish')\n",
    "spanish_words = ['caminando', 'amigo', 'bueno']\n",
    "[stemmer.stem(word) for word in spanish_words]"
   ]
  },
  {
   "cell_type": "code",
   "execution_count": null,
   "id": "local-biography",
   "metadata": {},
   "outputs": [],
   "source": []
  }
 ],
 "metadata": {
  "kernelspec": {
   "display_name": "Python 3",
   "language": "python",
   "name": "python3"
  },
  "language_info": {
   "codemirror_mode": {
    "name": "ipython",
    "version": 3
   },
   "file_extension": ".py",
   "mimetype": "text/x-python",
   "name": "python",
   "nbconvert_exporter": "python",
   "pygments_lexer": "ipython3",
   "version": "3.9.6"
  }
 },
 "nbformat": 4,
 "nbformat_minor": 5
}
