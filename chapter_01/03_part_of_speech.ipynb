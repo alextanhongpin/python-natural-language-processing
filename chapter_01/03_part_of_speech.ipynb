{
 "cells": [
  {
   "cell_type": "markdown",
   "id": "heavy-albert",
   "metadata": {},
   "source": [
    "# Part of speech tagging\n",
    "\n",
    "Usecase:\n",
    "- in sentence classification, we sometimes use the parts of speech of the words as the feature that is input to the classifier"
   ]
  },
  {
   "cell_type": "code",
   "execution_count": 1,
   "id": "random-wednesday",
   "metadata": {},
   "outputs": [],
   "source": [
    "import spacy"
   ]
  },
  {
   "cell_type": "code",
   "execution_count": 2,
   "id": "fiscal-negative",
   "metadata": {},
   "outputs": [],
   "source": [
    "filename = \"./data/sherlock_holmes_1.txt\"\n",
    "file = open(filename, 'r', encoding='utf-8')\n",
    "text = file.read()"
   ]
  },
  {
   "cell_type": "code",
   "execution_count": 3,
   "id": "dirty-omega",
   "metadata": {},
   "outputs": [],
   "source": [
    "text = text.replace('\\n', ' ')\n",
    "nlp = spacy.load('en_core_web_sm')\n",
    "doc = nlp(text)"
   ]
  },
  {
   "cell_type": "code",
   "execution_count": 6,
   "id": "eight-myrtle",
   "metadata": {},
   "outputs": [
    {
     "name": "stdout",
     "output_type": "stream",
     "text": [
      "[('To', 'ADP'), ('Sherlock', 'PROPN'), ('Holmes', 'PROPN'), ('she', 'PRON'), ('is', 'AUX'), ('always', 'ADV'), ('_', 'PRON'), ('the', 'DET'), ('_', 'NOUN'), ('woman', 'NOUN'), ('.', 'PUNCT'), ('I', 'PRON'), ('have', 'AUX'), ('seldom', 'ADV'), ('heard', 'VERB'), ('him', 'PRON'), ('mention', 'VERB'), ('her', 'PRON'), ('under', 'ADP'), ('any', 'DET'), ('other', 'ADJ'), ('name', 'NOUN'), ('.', 'PUNCT'), ('In', 'ADP'), ('his', 'PRON'), ('eyes', 'NOUN'), ('she', 'PRON'), ('eclipses', 'VERB'), ('and', 'CCONJ'), ('predominates', 'VERB'), ('the', 'DET'), ('whole', 'NOUN'), ('of', 'ADP'), ('her', 'PRON'), ('sex', 'NOUN'), ('.', 'PUNCT'), ('It', 'PRON'), ('was', 'AUX'), ('not', 'PART'), ('that', 'SCONJ'), ('he', 'PRON'), ('felt', 'VERB'), ('any', 'DET'), ('emotion', 'NOUN'), ('akin', 'ADJ'), ('to', 'PART'), ('love', 'VERB'), ('for', 'ADP'), ('Irene', 'PROPN'), ('Adler', 'PROPN'), ('.', 'PUNCT'), ('All', 'DET'), ('emotions', 'NOUN'), (',', 'PUNCT'), ('and', 'CCONJ'), ('that', 'SCONJ'), ('one', 'NOUN'), ('particularly', 'ADV'), (',', 'PUNCT'), ('were', 'AUX'), ('abhorrent', 'ADJ'), ('to', 'ADP'), ('his', 'PRON'), ('cold', 'ADJ'), (',', 'PUNCT'), ('precise', 'ADJ'), ('but', 'CCONJ'), ('admirably', 'ADV'), ('balanced', 'ADJ'), ('mind', 'NOUN'), ('.', 'PUNCT'), ('He', 'PRON'), ('was', 'AUX'), (',', 'PUNCT'), ('I', 'PRON'), ('take', 'VERB'), ('it', 'PRON'), (',', 'PUNCT'), ('the', 'DET'), ('most', 'ADV'), ('perfect', 'ADJ'), ('reasoning', 'NOUN'), ('and', 'CCONJ'), ('observing', 'VERB'), ('machine', 'NOUN'), ('that', 'DET'), ('the', 'DET'), ('world', 'NOUN'), ('has', 'AUX'), ('seen', 'VERB'), (',', 'PUNCT'), ('but', 'CCONJ'), ('as', 'ADP'), ('a', 'DET'), ('lover', 'NOUN'), ('he', 'PRON'), ('would', 'AUX'), ('have', 'AUX'), ('placed', 'VERB'), ('himself', 'PRON'), ('in', 'ADP'), ('a', 'DET'), ('false', 'ADJ'), ('position', 'NOUN'), ('.', 'PUNCT'), ('He', 'PRON'), ('never', 'ADV'), ('spoke', 'VERB'), ('of', 'ADP'), ('the', 'DET'), ('softer', 'ADJ'), ('passions', 'NOUN'), (',', 'PUNCT'), ('save', 'VERB'), ('with', 'ADP'), ('a', 'DET'), ('gibe', 'NOUN'), ('and', 'CCONJ'), ('a', 'DET'), ('sneer', 'NOUN'), ('.', 'PUNCT'), ('They', 'PRON'), ('were', 'AUX'), ('admirable', 'ADJ'), ('things', 'NOUN'), ('for', 'ADP'), ('the', 'DET'), ('observer', 'NOUN'), ('—', 'PUNCT'), ('excellent', 'ADJ'), ('for', 'ADP'), ('drawing', 'VERB'), ('the', 'DET'), ('veil', 'NOUN'), ('from', 'ADP'), ('men', 'NOUN'), ('’s', 'PART'), ('motives', 'NOUN'), ('and', 'CCONJ'), ('actions', 'NOUN'), ('.', 'PUNCT'), ('But', 'CCONJ'), ('for', 'ADP'), ('the', 'DET'), ('trained', 'VERB'), ('reasoner', 'NOUN'), ('to', 'PART'), ('admit', 'VERB'), ('such', 'ADJ'), ('intrusions', 'NOUN'), ('into', 'ADP'), ('his', 'PRON'), ('own', 'ADJ'), ('delicate', 'ADJ'), ('and', 'CCONJ'), ('finely', 'ADV'), ('adjusted', 'VERB'), ('temperament', 'NOUN'), ('was', 'AUX'), ('to', 'PART'), ('introduce', 'VERB'), ('a', 'DET'), ('distracting', 'VERB'), ('factor', 'NOUN'), ('which', 'DET'), ('might', 'AUX'), ('throw', 'VERB'), ('a', 'DET'), ('doubt', 'NOUN'), ('upon', 'SCONJ'), ('all', 'DET'), ('his', 'PRON'), ('mental', 'ADJ'), ('results', 'NOUN'), ('.', 'PUNCT'), ('Grit', 'NOUN'), ('in', 'ADP'), ('a', 'DET'), ('sensitive', 'ADJ'), ('instrument', 'NOUN'), (',', 'PUNCT'), ('or', 'CCONJ'), ('a', 'DET'), ('crack', 'NOUN'), ('in', 'ADP'), ('one', 'NUM'), ('of', 'ADP'), ('his', 'PRON'), ('own', 'ADJ'), ('high', 'ADJ'), ('-', 'PUNCT'), ('power', 'NOUN'), ('lenses', 'NOUN'), (',', 'PUNCT'), ('would', 'AUX'), ('not', 'PART'), ('be', 'VERB'), ('more', 'ADV'), ('disturbing', 'ADJ'), ('than', 'SCONJ'), ('a', 'DET'), ('strong', 'ADJ'), ('emotion', 'NOUN'), ('in', 'ADP'), ('a', 'DET'), ('nature', 'NOUN'), ('such', 'ADJ'), ('as', 'ADP'), ('his', 'PRON'), ('.', 'PUNCT'), ('And', 'CCONJ'), ('yet', 'ADV'), ('there', 'PRON'), ('was', 'AUX'), ('but', 'CCONJ'), ('one', 'NUM'), ('woman', 'NOUN'), ('to', 'ADP'), ('him', 'PRON'), (',', 'PUNCT'), ('and', 'CCONJ'), ('that', 'DET'), ('woman', 'NOUN'), ('was', 'VERB'), ('the', 'DET'), ('late', 'ADJ'), ('Irene', 'PROPN'), ('Adler', 'PROPN'), (',', 'PUNCT'), ('of', 'ADP'), ('dubious', 'ADJ'), ('and', 'CCONJ'), ('questionable', 'ADJ'), ('memory', 'NOUN'), ('.', 'PUNCT')]\n"
     ]
    }
   ],
   "source": [
    "words = [token.text for token in doc]\n",
    "pos = [token.pos_ for token in doc]\n",
    "word_pos_tuples = list(zip(words, pos))\n",
    "print(word_pos_tuples)"
   ]
  },
  {
   "cell_type": "markdown",
   "id": "forced-nudist",
   "metadata": {},
   "source": [
    "## With NLTK"
   ]
  },
  {
   "cell_type": "code",
   "execution_count": 7,
   "id": "danish-trance",
   "metadata": {},
   "outputs": [],
   "source": [
    "import nltk "
   ]
  },
  {
   "cell_type": "code",
   "execution_count": 9,
   "id": "resistant-fitness",
   "metadata": {},
   "outputs": [
    {
     "name": "stdout",
     "output_type": "stream",
     "text": [
      "[('To', 'TO'), ('Sherlock', 'NNP'), ('Holmes', 'NNP'), ('she', 'PRP'), ('is', 'VBZ'), ('always', 'RB'), ('_the_', 'JJ'), ('woman', 'NN'), ('.', '.'), ('I', 'PRP'), ('have', 'VBP'), ('seldom', 'VBN'), ('heard', 'RB'), ('him', 'PRP'), ('mention', 'VB'), ('her', 'PRP'), ('under', 'IN'), ('any', 'DT'), ('other', 'JJ'), ('name', 'NN'), ('.', '.'), ('In', 'IN'), ('his', 'PRP$'), ('eyes', 'NNS'), ('she', 'PRP'), ('eclipses', 'VBZ'), ('and', 'CC'), ('predominates', 'VBZ'), ('the', 'DT'), ('whole', 'NN'), ('of', 'IN'), ('her', 'PRP$'), ('sex', 'NN'), ('.', '.'), ('It', 'PRP'), ('was', 'VBD'), ('not', 'RB'), ('that', 'IN'), ('he', 'PRP'), ('felt', 'VBD'), ('any', 'DT'), ('emotion', 'NN'), ('akin', 'NN'), ('to', 'TO'), ('love', 'VB'), ('for', 'IN'), ('Irene', 'NNP'), ('Adler', 'NNP'), ('.', '.'), ('All', 'DT'), ('emotions', 'NNS'), (',', ','), ('and', 'CC'), ('that', 'IN'), ('one', 'CD'), ('particularly', 'RB'), (',', ','), ('were', 'VBD'), ('abhorrent', 'JJ'), ('to', 'TO'), ('his', 'PRP$'), ('cold', 'NN'), (',', ','), ('precise', 'NN'), ('but', 'CC'), ('admirably', 'RB'), ('balanced', 'VBD'), ('mind', 'NN'), ('.', '.'), ('He', 'PRP'), ('was', 'VBD'), (',', ','), ('I', 'PRP'), ('take', 'VBP'), ('it', 'PRP'), (',', ','), ('the', 'DT'), ('most', 'RBS'), ('perfect', 'JJ'), ('reasoning', 'NN'), ('and', 'CC'), ('observing', 'VBG'), ('machine', 'NN'), ('that', 'IN'), ('the', 'DT'), ('world', 'NN'), ('has', 'VBZ'), ('seen', 'VBN'), (',', ','), ('but', 'CC'), ('as', 'IN'), ('a', 'DT'), ('lover', 'NN'), ('he', 'PRP'), ('would', 'MD'), ('have', 'VB'), ('placed', 'VBN'), ('himself', 'PRP'), ('in', 'IN'), ('a', 'DT'), ('false', 'JJ'), ('position', 'NN'), ('.', '.'), ('He', 'PRP'), ('never', 'RB'), ('spoke', 'VBD'), ('of', 'IN'), ('the', 'DT'), ('softer', 'JJR'), ('passions', 'NNS'), (',', ','), ('save', 'VBP'), ('with', 'IN'), ('a', 'DT'), ('gibe', 'NN'), ('and', 'CC'), ('a', 'DT'), ('sneer', 'NN'), ('.', '.'), ('They', 'PRP'), ('were', 'VBD'), ('admirable', 'JJ'), ('things', 'NNS'), ('for', 'IN'), ('the', 'DT'), ('observer—excellent', 'NN'), ('for', 'IN'), ('drawing', 'VBG'), ('the', 'DT'), ('veil', 'NN'), ('from', 'IN'), ('men', 'NNS'), ('’', 'VBP'), ('s', 'JJ'), ('motives', 'NNS'), ('and', 'CC'), ('actions', 'NNS'), ('.', '.'), ('But', 'CC'), ('for', 'IN'), ('the', 'DT'), ('trained', 'JJ'), ('reasoner', 'NN'), ('to', 'TO'), ('admit', 'VB'), ('such', 'JJ'), ('intrusions', 'NNS'), ('into', 'IN'), ('his', 'PRP$'), ('own', 'JJ'), ('delicate', 'NN'), ('and', 'CC'), ('finely', 'RB'), ('adjusted', 'VBD'), ('temperament', 'NN'), ('was', 'VBD'), ('to', 'TO'), ('introduce', 'VB'), ('a', 'DT'), ('distracting', 'NN'), ('factor', 'NN'), ('which', 'WDT'), ('might', 'MD'), ('throw', 'VB'), ('a', 'DT'), ('doubt', 'NN'), ('upon', 'IN'), ('all', 'PDT'), ('his', 'PRP$'), ('mental', 'JJ'), ('results', 'NNS'), ('.', '.'), ('Grit', 'NNP'), ('in', 'IN'), ('a', 'DT'), ('sensitive', 'JJ'), ('instrument', 'NN'), (',', ','), ('or', 'CC'), ('a', 'DT'), ('crack', 'NN'), ('in', 'IN'), ('one', 'CD'), ('of', 'IN'), ('his', 'PRP$'), ('own', 'JJ'), ('high-power', 'NN'), ('lenses', 'NNS'), (',', ','), ('would', 'MD'), ('not', 'RB'), ('be', 'VB'), ('more', 'RBR'), ('disturbing', 'JJ'), ('than', 'IN'), ('a', 'DT'), ('strong', 'JJ'), ('emotion', 'NN'), ('in', 'IN'), ('a', 'DT'), ('nature', 'NN'), ('such', 'JJ'), ('as', 'IN'), ('his', 'PRP$'), ('.', '.'), ('And', 'CC'), ('yet', 'RB'), ('there', 'EX'), ('was', 'VBD'), ('but', 'CC'), ('one', 'CD'), ('woman', 'NN'), ('to', 'TO'), ('him', 'PRP'), (',', ','), ('and', 'CC'), ('that', 'IN'), ('woman', 'NN'), ('was', 'VBD'), ('the', 'DT'), ('late', 'JJ'), ('Irene', 'NNP'), ('Adler', 'NNP'), (',', ','), ('of', 'IN'), ('dubious', 'JJ'), ('and', 'CC'), ('questionable', 'JJ'), ('memory', 'NN'), ('.', '.')]\n"
     ]
    }
   ],
   "source": [
    "words = nltk.tokenize.word_tokenize(text)\n",
    "words_with_pos = nltk.pos_tag(words)\n",
    "print(words_with_pos)"
   ]
  },
  {
   "cell_type": "code",
   "execution_count": null,
   "id": "immediate-sheep",
   "metadata": {},
   "outputs": [],
   "source": []
  }
 ],
 "metadata": {
  "kernelspec": {
   "display_name": "Python 3",
   "language": "python",
   "name": "python3"
  },
  "language_info": {
   "codemirror_mode": {
    "name": "ipython",
    "version": 3
   },
   "file_extension": ".py",
   "mimetype": "text/x-python",
   "name": "python",
   "nbconvert_exporter": "python",
   "pygments_lexer": "ipython3",
   "version": "3.9.6"
  }
 },
 "nbformat": 4,
 "nbformat_minor": 5
}
